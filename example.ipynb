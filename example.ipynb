{
 "cells": [
  {
   "cell_type": "code",
   "execution_count": 1,
   "id": "c07a4ef0-0615-4bce-aad5-6a03ef403c84",
   "metadata": {},
   "outputs": [],
   "source": [
    "from importlib import reload"
   ]
  },
  {
   "cell_type": "code",
   "execution_count": 2,
   "id": "e86cdb8f-1303-417e-bf49-647ef5825c0f",
   "metadata": {},
   "outputs": [],
   "source": [
    "import spellchecker\n",
    "reload(spellchecker)\n",
    "from spellchecker import SpellChecker"
   ]
  },
  {
   "cell_type": "code",
   "execution_count": 3,
   "id": "d41ac2f4-34cd-4000-bdb0-954cf8bd33e3",
   "metadata": {},
   "outputs": [],
   "source": [
    "spell_checker = SpellChecker()"
   ]
  },
  {
   "cell_type": "code",
   "execution_count": 4,
   "id": "4566e3dc-0140-4267-b067-17897e4e77c7",
   "metadata": {},
   "outputs": [
    {
     "name": "stdout",
     "output_type": "stream",
     "text": [
      "FIX\tмаленькай, candidates are:\n",
      "маленький: -23.459579071300183\n",
      "маленькой: -24.440408324311903\n",
      "маленькая: -24.690408324311903\n",
      "маленько: -25.689020612980016\n",
      "FIX\tёлачке, candidates are:\n",
      "ёлочке: -25.25986326914076\n",
      "лачке: -25.512244221521712\n",
      "FIX\tхоладно, candidates are:\n",
      "холодно: -23.62768053191179\n",
      "холодна: -25.30378511101256\n",
      "хо ладно: -25.32878511101256\n",
      "шоколадно: -25.662515269742716\n",
      "OK\tзимой\n"
     ]
    }
   ],
   "source": [
    "spell_checker.suggest(\"маленькай ёлачке холадно зимой\")"
   ]
  },
  {
   "cell_type": "code",
   "execution_count": null,
   "id": "4a9bb53f-2cb4-4961-9e17-4cd7f24748c9",
   "metadata": {},
   "outputs": [],
   "source": []
  }
 ],
 "metadata": {
  "kernelspec": {
   "display_name": "Python 3 (ipykernel)",
   "language": "python",
   "name": "python3"
  },
  "language_info": {
   "codemirror_mode": {
    "name": "ipython",
    "version": 3
   },
   "file_extension": ".py",
   "mimetype": "text/x-python",
   "name": "python",
   "nbconvert_exporter": "python",
   "pygments_lexer": "ipython3",
   "version": "3.7.12"
  }
 },
 "nbformat": 4,
 "nbformat_minor": 5
}
